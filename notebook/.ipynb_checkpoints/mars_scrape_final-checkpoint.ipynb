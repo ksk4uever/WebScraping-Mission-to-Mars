{
 "cells": [
  {
   "cell_type": "markdown",
   "metadata": {},
   "source": [
    "## Step 1 Scraping"
   ]
  },
  {
   "cell_type": "code",
   "execution_count": 1,
   "metadata": {},
   "outputs": [],
   "source": [
    "from urllib.parse import urlsplit\n",
    "from selenium import webdriver\n",
    "from bs4 import BeautifulSoup as bs\n",
    "from splinter import Browser\n",
    "from urllib.request import urlopen, urlretrieve\n",
    "from urllib.parse import urljoin\n",
    "import os\n",
    "import urllib\n",
    "import pandas as pd\n",
    "import time\n",
    "def init_browser():\n",
    "\n",
    "    exec_path = {'executable_path': 'chromedriver'}\n",
    "\n",
    "    return Browser('chrome', headless=False, **exec_path)"
   ]
  },
  {
   "cell_type": "markdown",
   "metadata": {},
   "source": [
    "## viewing and scraping Mars related Web Sites"
   ]
  },
  {
   "cell_type": "code",
   "execution_count": 2,
   "metadata": {},
   "outputs": [],
   "source": [
    "def scrape():\n",
    "\n",
    "    url1 = 'https://mars.nasa.gov/news/'\n",
    "    url2 = 'https://www.jpl.nasa.gov/spaceimages/?search=&category=Mars'\n",
    "    url3 = 'https://twitter.com/marswxreport?lang=en'\n",
    "    url4 = 'http://space-facts.com/mars/'\n",
    "    url5 = 'https://astrogeology.usgs.gov/search/results?q=hemisphere+enhanced&k1=target&v1=Mars'\n",
    "\n",
    "    db_mars_collection ={}\n",
    "#BEG  NASA\n",
    "    browser = init_browser()\n",
    "    browser.visit(url1)\n",
    "\n",
    "    html = browser.html\n",
    "\n",
    "    soup = bs(html,\"html.parser\")\n",
    "\n",
    "    time.sleep(2)\n",
    "\n",
    "    news_title = soup.find(\"div\",class_=\"content_title\").text\n",
    "    news_p = soup.find(\"div\", class_=\"article_teaser_body\").text\n",
    "    print(f\"Title: {news_title}\")\n",
    "    print(f\"Paragraph: {news_p}\")\n",
    "\n",
    "#building required dictionary\n",
    "    db_mars_collection['news_title'] = news_title\n",
    "    db_mars_collection['news_paragraph'] = news_p\n",
    "#END  NASA\n",
    "\n",
    "#BEG JPL\n",
    "#initialize browser for second web site\n",
    "    browser.visit(url2)\n",
    "    time.sleep(2)\n",
    "   \n",
    "    browser.find_by_id('full_image').click()\n",
    "    featured_image_url = browser.find_by_css('.fancybox-image').first['src']\n",
    "    db_mars_collection['featured_image_url'] = featured_image_url\n",
    "\n",
    "#END  JPL\n",
    "\n",
    "#BEG Mars Weather  twitter\n",
    "    browser.visit(url3)\n",
    "    time.sleep(2)\n",
    "\n",
    "    for text in browser.find_by_css('.tweet-text'):\n",
    "        if text.text.partition(' ')[0] == 'Sol':\n",
    "            mars_weather = text.text\n",
    "            break\n",
    "    db_mars_collection['mars_weather'] = mars_weather\n",
    "    print(mars_weather)\n",
    "#EMD Mars Weather  twitter\n",
    "\n",
    "#BEG  FACTS TABLE \n",
    "    browser.visit(url4)\n",
    "    time.sleep(2)\n",
    "\n",
    "    df = pd.read_html(url4, attrs={'id': 'tablepress-mars'})[0]\n",
    "    time.sleep(2)\n",
    "    df = df.set_index(0).rename(columns={1: \"value\"})\n",
    "    del df.index.name\n",
    "    time.sleep(2)\n",
    "    mars_facts = df.to_html(justify='left')\n",
    "\n",
    "    db_mars_collection['mars_facts'] = mars_facts\n",
    "#END  FACTS TABLE \n",
    "\n",
    "## No soup just splinter \n",
    "    browser.visit(url5)\n",
    "    time.sleep(2)\n",
    "\n",
    "#Find titles with tag h3 and assign     \n",
    "    title1 = browser.find_by_tag('h3')[0].text\n",
    "    title2 = browser.find_by_tag('h3')[1].text\n",
    "    title3 = browser.find_by_tag('h3')[2].text\n",
    "    title4 = browser.find_by_tag('h3')[3].text\n",
    "    time.sleep(2)\n",
    "\n",
    "#Finding the image location   \n",
    "    browser.find_by_css('.thumb')[0].click()\n",
    "    time.sleep(2)\n",
    "    first_img = browser.find_by_text('Sample')['href']\n",
    "    browser.back()\n",
    "    time.sleep(2)\n",
    "    browser.find_by_css('.thumb')[1].click()\n",
    "    second_img = browser.find_by_text('Sample')['href']\n",
    "    browser.back()\n",
    "    time.sleep(2)\n",
    "\n",
    "    browser.find_by_css('.thumb')[2].click()\n",
    "    third_img = browser.find_by_text('Sample')['href']\n",
    "    browser.back()\n",
    "    time.sleep(2)\n",
    "\n",
    "    browser.find_by_css('.thumb')[3].click()\n",
    "    fourth_img = browser.find_by_text('Sample')['href']\n",
    "    time.sleep(2)\n",
    "\n",
    "    hemisphere_image_urls = [\n",
    "        {'title': title1, 'img_url': first_img},\n",
    "        {'title': title2, 'img_url': second_img},\n",
    "        {'title': title3, 'img_url': third_img},\n",
    "        {'title': title4, 'img_url': fourth_img}\n",
    "    ]\n",
    "    time.sleep(2)\n",
    "    db_mars_collection['hemisphere_image_urls'] = hemisphere_image_urls\n",
    "    time.sleep(2)\n",
    "    return(db_mars_collection)"
   ]
  },
  {
   "cell_type": "code",
   "execution_count": 3,
   "metadata": {},
   "outputs": [
    {
     "name": "stdout",
     "output_type": "stream",
     "text": [
      "Title: NASA Seeking Partner in Contest to Name Next Mars Rover\n",
      "Paragraph: NASA has a class assignment for corporations, nonprofits and educational organizations involved in science and space exploration: partner with the agency to inspire future engineers and scientists by sponsoring a contest to name the next rover to venture to the Red Planet.\n",
      "Sol 2171 (2018-09-14), high -12C/10F, low -65C/-84F, pressure at 8.79 hPa, daylight 05:43-17:59\n"
     ]
    },
    {
     "data": {
      "text/plain": [
       "{'news_title': 'NASA Seeking Partner in Contest to Name Next Mars Rover',\n",
       " 'news_paragraph': 'NASA has a class assignment for corporations, nonprofits and educational organizations involved in science and space exploration: partner with the agency to inspire future engineers and scientists by sponsoring a contest to name the next rover to venture to the Red Planet.',\n",
       " 'featured_image_url': 'https://www.jpl.nasa.gov/spaceimages/images/mediumsize/PIA19977_ip.jpg',\n",
       " 'mars_weather': 'Sol 2171 (2018-09-14), high -12C/10F, low -65C/-84F, pressure at 8.79 hPa, daylight 05:43-17:59',\n",
       " 'mars_facts': '<table border=\"1\" class=\"dataframe\">\\n  <thead>\\n    <tr style=\"text-align: left;\">\\n      <th></th>\\n      <th>value</th>\\n    </tr>\\n  </thead>\\n  <tbody>\\n    <tr>\\n      <th>Equatorial Diameter:</th>\\n      <td>6,792 km</td>\\n    </tr>\\n    <tr>\\n      <th>Polar Diameter:</th>\\n      <td>6,752 km</td>\\n    </tr>\\n    <tr>\\n      <th>Mass:</th>\\n      <td>6.42 x 10^23 kg (10.7% Earth)</td>\\n    </tr>\\n    <tr>\\n      <th>Moons:</th>\\n      <td>2 (Phobos &amp; Deimos)</td>\\n    </tr>\\n    <tr>\\n      <th>Orbit Distance:</th>\\n      <td>227,943,824 km (1.52 AU)</td>\\n    </tr>\\n    <tr>\\n      <th>Orbit Period:</th>\\n      <td>687 days (1.9 years)</td>\\n    </tr>\\n    <tr>\\n      <th>Surface Temperature:</th>\\n      <td>-153 to 20 °C</td>\\n    </tr>\\n    <tr>\\n      <th>First Record:</th>\\n      <td>2nd millennium BC</td>\\n    </tr>\\n    <tr>\\n      <th>Recorded By:</th>\\n      <td>Egyptian astronomers</td>\\n    </tr>\\n  </tbody>\\n</table>',\n",
       " 'hemisphere_image_urls': [{'title': 'Cerberus Hemisphere Enhanced',\n",
       "   'img_url': 'http://astropedia.astrogeology.usgs.gov/download/Mars/Viking/cerberus_enhanced.tif/full.jpg'},\n",
       "  {'title': 'Schiaparelli Hemisphere Enhanced',\n",
       "   'img_url': 'http://astropedia.astrogeology.usgs.gov/download/Mars/Viking/schiaparelli_enhanced.tif/full.jpg'},\n",
       "  {'title': 'Syrtis Major Hemisphere Enhanced',\n",
       "   'img_url': 'http://astropedia.astrogeology.usgs.gov/download/Mars/Viking/syrtis_major_enhanced.tif/full.jpg'},\n",
       "  {'title': 'Valles Marineris Hemisphere Enhanced',\n",
       "   'img_url': 'http://astropedia.astrogeology.usgs.gov/download/Mars/Viking/valles_marineris_enhanced.tif/full.jpg'}]}"
      ]
     },
     "execution_count": 3,
     "metadata": {},
     "output_type": "execute_result"
    }
   ],
   "source": [
    "scrape()"
   ]
  },
  {
   "cell_type": "code",
   "execution_count": null,
   "metadata": {},
   "outputs": [],
   "source": []
  },
  {
   "cell_type": "code",
   "execution_count": null,
   "metadata": {},
   "outputs": [],
   "source": []
  }
 ],
 "metadata": {
  "kernelspec": {
   "display_name": "Python 3",
   "language": "python",
   "name": "python3"
  },
  "language_info": {
   "codemirror_mode": {
    "name": "ipython",
    "version": 3
   },
   "file_extension": ".py",
   "mimetype": "text/x-python",
   "name": "python",
   "nbconvert_exporter": "python",
   "pygments_lexer": "ipython3",
   "version": "3.6.6"
  }
 },
 "nbformat": 4,
 "nbformat_minor": 2
}
